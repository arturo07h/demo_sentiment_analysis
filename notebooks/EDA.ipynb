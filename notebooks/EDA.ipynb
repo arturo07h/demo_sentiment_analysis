{
 "cells": [
  {
   "cell_type": "markdown",
   "metadata": {},
   "source": [
    "# **Análisis exploratorio de datos**"
   ]
  },
  {
   "cell_type": "code",
   "execution_count": 43,
   "metadata": {},
   "outputs": [],
   "source": [
    "## Librerías a utilizar\n",
    "import polars as pl\n",
    "import spacy\n",
    "import re\n",
    "\n",
    "from vaderSentiment.vaderSentiment import SentimentIntensityAnalyzer\n",
    "\n",
    "nlp = spacy.load(\"en_core_web_sm\")\n",
    "analyzer = SentimentIntensityAnalyzer()"
   ]
  },
  {
   "cell_type": "code",
   "execution_count": 55,
   "metadata": {},
   "outputs": [
    {
     "data": {
      "text/html": [
       "<div><style>\n",
       ".dataframe > thead > tr,\n",
       ".dataframe > tbody > tr {\n",
       "  text-align: right;\n",
       "  white-space: pre-wrap;\n",
       "}\n",
       "</style>\n",
       "<small>shape: (5, 5)</small><table border=\"1\" class=\"dataframe\"><thead><tr><th>empresa</th><th>producto</th><th>sentimiento</th><th>comentario</th><th>fecha_hora</th></tr><tr><td>str</td><td>str</td><td>str</td><td>str</td><td>str</td></tr></thead><tbody><tr><td>&quot;Apple&quot;</td><td>&quot;MacBook Air&quot;</td><td>&quot;neutral&quot;</td><td>&quot;MacBook Air cumple con lo bási…</td><td>&quot;2025-04-16 13:00:00&quot;</td></tr><tr><td>&quot;Apple&quot;</td><td>&quot;MacBook Air&quot;</td><td>&quot;negativo&quot;</td><td>&quot;He tenido más problemas que be…</td><td>&quot;2025-04-19 11:00:00&quot;</td></tr><tr><td>&quot;Nvidia&quot;</td><td>&quot;GeForce NOW&quot;</td><td>&quot;negativo&quot;</td><td>&quot;Malísimo el GeForce NOW de Nvi…</td><td>&quot;2025-04-16 23:00:00&quot;</td></tr><tr><td>&quot;Nike&quot;</td><td>&quot;Air Max&quot;</td><td>&quot;neutral&quot;</td><td>&quot;Vi muchas reseñas del Air Max …</td><td>&quot;2025-04-19 08:00:00&quot;</td></tr><tr><td>&quot;Apple&quot;</td><td>&quot;MacBook Air&quot;</td><td>&quot;positivo&quot;</td><td>&quot;No puedo creer lo bien que fun…</td><td>&quot;2025-04-16 17:00:00&quot;</td></tr></tbody></table></div>"
      ],
      "text/plain": [
       "shape: (5, 5)\n",
       "┌─────────┬─────────────┬─────────────┬─────────────────────────────────┬─────────────────────┐\n",
       "│ empresa ┆ producto    ┆ sentimiento ┆ comentario                      ┆ fecha_hora          │\n",
       "│ ---     ┆ ---         ┆ ---         ┆ ---                             ┆ ---                 │\n",
       "│ str     ┆ str         ┆ str         ┆ str                             ┆ str                 │\n",
       "╞═════════╪═════════════╪═════════════╪═════════════════════════════════╪═════════════════════╡\n",
       "│ Apple   ┆ MacBook Air ┆ neutral     ┆ MacBook Air cumple con lo bási… ┆ 2025-04-16 13:00:00 │\n",
       "│ Apple   ┆ MacBook Air ┆ negativo    ┆ He tenido más problemas que be… ┆ 2025-04-19 11:00:00 │\n",
       "│ Nvidia  ┆ GeForce NOW ┆ negativo    ┆ Malísimo el GeForce NOW de Nvi… ┆ 2025-04-16 23:00:00 │\n",
       "│ Nike    ┆ Air Max     ┆ neutral     ┆ Vi muchas reseñas del Air Max … ┆ 2025-04-19 08:00:00 │\n",
       "│ Apple   ┆ MacBook Air ┆ positivo    ┆ No puedo creer lo bien que fun… ┆ 2025-04-16 17:00:00 │\n",
       "└─────────┴─────────────┴─────────────┴─────────────────────────────────┴─────────────────────┘"
      ]
     },
     "execution_count": 55,
     "metadata": {},
     "output_type": "execute_result"
    }
   ],
   "source": [
    "## Ruta de la data cruda\n",
    "ruta_gen = \"/Users/arturohernandezlopez/Documents/git/demo_sentiment_analysis/\"\n",
    "ruta_data_raw = ruta_gen + \"data-raw/sentimientos_simulados_comentarios.csv\"\n",
    "data_raw = pl.read_csv(ruta_data_raw)\n",
    "data_raw.head()"
   ]
  },
  {
   "cell_type": "code",
   "execution_count": 45,
   "metadata": {},
   "outputs": [
    {
     "data": {
      "text/html": [
       "<div><style>\n",
       ".dataframe > thead > tr,\n",
       ".dataframe > tbody > tr {\n",
       "  text-align: right;\n",
       "  white-space: pre-wrap;\n",
       "}\n",
       "</style>\n",
       "<small>shape: (9, 6)</small><table border=\"1\" class=\"dataframe\"><thead><tr><th>statistic</th><th>empresa</th><th>producto</th><th>sentimiento</th><th>comentario</th><th>fecha_hora</th></tr><tr><td>str</td><td>str</td><td>str</td><td>str</td><td>str</td><td>str</td></tr></thead><tbody><tr><td>&quot;count&quot;</td><td>&quot;1200&quot;</td><td>&quot;1200&quot;</td><td>&quot;1200&quot;</td><td>&quot;1200&quot;</td><td>&quot;1200&quot;</td></tr><tr><td>&quot;null_count&quot;</td><td>&quot;0&quot;</td><td>&quot;0&quot;</td><td>&quot;0&quot;</td><td>&quot;0&quot;</td><td>&quot;0&quot;</td></tr><tr><td>&quot;mean&quot;</td><td>null</td><td>null</td><td>null</td><td>null</td><td>null</td></tr><tr><td>&quot;std&quot;</td><td>null</td><td>null</td><td>null</td><td>null</td><td>null</td></tr><tr><td>&quot;min&quot;</td><td>&quot;Apple&quot;</td><td>&quot;Air Max&quot;</td><td>&quot;negativo&quot;</td><td>&quot;Air Max cumple con lo básico. …</td><td>&quot;2025-04-15 08:00:00&quot;</td></tr><tr><td>&quot;25%&quot;</td><td>null</td><td>null</td><td>null</td><td>null</td><td>null</td></tr><tr><td>&quot;50%&quot;</td><td>null</td><td>null</td><td>null</td><td>null</td><td>null</td></tr><tr><td>&quot;75%&quot;</td><td>null</td><td>null</td><td>null</td><td>null</td><td>null</td></tr><tr><td>&quot;max&quot;</td><td>&quot;Tesla&quot;</td><td>&quot;iPhone 15&quot;</td><td>&quot;positivo&quot;</td><td>&quot;¡Amo mi nuevo iPhone 15 de App…</td><td>&quot;2025-04-20 08:00:00&quot;</td></tr></tbody></table></div>"
      ],
      "text/plain": [
       "shape: (9, 6)\n",
       "┌────────────┬─────────┬───────────┬─────────────┬───────────────────────────┬─────────────────────┐\n",
       "│ statistic  ┆ empresa ┆ producto  ┆ sentimiento ┆ comentario                ┆ fecha_hora          │\n",
       "│ ---        ┆ ---     ┆ ---       ┆ ---         ┆ ---                       ┆ ---                 │\n",
       "│ str        ┆ str     ┆ str       ┆ str         ┆ str                       ┆ str                 │\n",
       "╞════════════╪═════════╪═══════════╪═════════════╪═══════════════════════════╪═════════════════════╡\n",
       "│ count      ┆ 1200    ┆ 1200      ┆ 1200        ┆ 1200                      ┆ 1200                │\n",
       "│ null_count ┆ 0       ┆ 0         ┆ 0           ┆ 0                         ┆ 0                   │\n",
       "│ mean       ┆ null    ┆ null      ┆ null        ┆ null                      ┆ null                │\n",
       "│ std        ┆ null    ┆ null      ┆ null        ┆ null                      ┆ null                │\n",
       "│ min        ┆ Apple   ┆ Air Max   ┆ negativo    ┆ Air Max cumple con lo     ┆ 2025-04-15 08:00:00 │\n",
       "│            ┆         ┆           ┆             ┆ básico. …                 ┆                     │\n",
       "│ 25%        ┆ null    ┆ null      ┆ null        ┆ null                      ┆ null                │\n",
       "│ 50%        ┆ null    ┆ null      ┆ null        ┆ null                      ┆ null                │\n",
       "│ 75%        ┆ null    ┆ null      ┆ null        ┆ null                      ┆ null                │\n",
       "│ max        ┆ Tesla   ┆ iPhone 15 ┆ positivo    ┆ ¡Amo mi nuevo iPhone 15   ┆ 2025-04-20 08:00:00 │\n",
       "│            ┆         ┆           ┆             ┆ de App…                   ┆                     │\n",
       "└────────────┴─────────┴───────────┴─────────────┴───────────────────────────┴─────────────────────┘"
      ]
     },
     "execution_count": 45,
     "metadata": {},
     "output_type": "execute_result"
    }
   ],
   "source": [
    "data_raw.describe()"
   ]
  },
  {
   "cell_type": "code",
   "execution_count": 46,
   "metadata": {},
   "outputs": [],
   "source": [
    "def clean_text(text):\n",
    "    if not text:\n",
    "        return \"\"\n",
    "    # Limpieza general\n",
    "    text = re.sub(r\"http\\S+\", \"\", text)  # eliminar URLs\n",
    "    text = re.sub(r\"@\\w+\", \"\", text)     # eliminar menciones\n",
    "    text = re.sub(r\"#\", \"\", text)        # eliminar hashtags\n",
    "    text = re.sub(r\"[^A-Za-z0-9\\s]\", \"\", text)  # eliminar puntuación\n",
    "    text = text.lower()\n",
    "    return text.strip()\n",
    "\n",
    "def normalize_text(text):\n",
    "    doc = nlp(text)\n",
    "    tokens = [token.lemma_ for token in doc if not token.is_stop and token.is_alpha]\n",
    "    return \" \".join(tokens)\n",
    "\n",
    "def analyze_sentiment(text):\n",
    "    if not text.strip():\n",
    "        return (\"neutral\", 0.0)\n",
    "    score = analyzer.polarity_scores(text)[\"compound\"]\n",
    "    if score >= 0.05:\n",
    "        return (\"positivo\", score)\n",
    "    elif score <= -0.05:\n",
    "        return (\"negativo\", score)\n",
    "    else:\n",
    "        return (\"neutral\", score)\n",
    "\n"
   ]
  },
  {
   "cell_type": "code",
   "execution_count": null,
   "metadata": {},
   "outputs": [],
   "source": [
    "# Limpieza de texto\n",
    "data = data_raw.with_columns([\n",
    "    pl.col(\"comentario\").map_elements(clean_text).alias(\"clean_comentario\")\n",
    "])"
   ]
  },
  {
   "cell_type": "code",
   "execution_count": null,
   "metadata": {},
   "outputs": [],
   "source": [
    "# Normalización con spaCy\n",
    "data = data.with_columns([\n",
    "    pl.col(\"clean_comentario\").map_elements(normalize_text).alias(\"texto_limpio\")\n",
    "])"
   ]
  },
  {
   "cell_type": "code",
   "execution_count": null,
   "metadata": {},
   "outputs": [],
   "source": [
    "# Análisis de sentimientos\n",
    "data = data.with_columns([\n",
    "    pl.col(\"texto_limpio\").map_elements(lambda t: analyze_sentiment(t)[0]).alias(\"sentimiento\"),\n",
    "    pl.col(\"texto_limpio\").map_elements(lambda t: analyze_sentiment(t)[1]).alias(\"score_sentimiento\")\n",
    "])"
   ]
  },
  {
   "cell_type": "code",
   "execution_count": 52,
   "metadata": {},
   "outputs": [],
   "source": [
    "# Convertir timestamp y redondear a la hora\n",
    "data = data.with_columns([\n",
    "    pl.col(\"fecha_hora\").str.strptime(pl.Datetime, \"%Y-%m-%d %H:%M:%S\").alias(\"hora\")\n",
    "])\n",
    "\n",
    "data = data.with_columns([\n",
    "    pl.col(\"hora\").dt.truncate(\"1h\").alias(\"hora_redondeada\")\n",
    "])"
   ]
  },
  {
   "cell_type": "code",
   "execution_count": 53,
   "metadata": {},
   "outputs": [
    {
     "data": {
      "text/html": [
       "<div><style>\n",
       ".dataframe > thead > tr,\n",
       ".dataframe > tbody > tr {\n",
       "  text-align: right;\n",
       "  white-space: pre-wrap;\n",
       "}\n",
       "</style>\n",
       "<small>shape: (5, 10)</small><table border=\"1\" class=\"dataframe\"><thead><tr><th>empresa</th><th>producto</th><th>sentimiento</th><th>comentario</th><th>fecha_hora</th><th>clean_comentario</th><th>texto_limpio</th><th>score_sentimiento</th><th>hora</th><th>hora_redondeada</th></tr><tr><td>str</td><td>str</td><td>str</td><td>str</td><td>str</td><td>str</td><td>str</td><td>f64</td><td>datetime[μs]</td><td>datetime[μs]</td></tr></thead><tbody><tr><td>&quot;Apple&quot;</td><td>&quot;MacBook Air&quot;</td><td>&quot;neutral&quot;</td><td>&quot;MacBook Air cumple con lo bási…</td><td>&quot;2025-04-16 13:00:00&quot;</td><td>&quot;macbook air cumple con lo bsic…</td><td>&quot;macbook air cumple con lo bsic…</td><td>0.0</td><td>2025-04-16 13:00:00</td><td>2025-04-16 13:00:00</td></tr><tr><td>&quot;Apple&quot;</td><td>&quot;MacBook Air&quot;</td><td>&quot;neutral&quot;</td><td>&quot;He tenido más problemas que be…</td><td>&quot;2025-04-19 11:00:00&quot;</td><td>&quot;he tenido ms problemas que ben…</td><td>&quot;tenido ms problemas que benefi…</td><td>0.0</td><td>2025-04-19 11:00:00</td><td>2025-04-19 11:00:00</td></tr><tr><td>&quot;Nvidia&quot;</td><td>&quot;GeForce NOW&quot;</td><td>&quot;neutral&quot;</td><td>&quot;Malísimo el GeForce NOW de Nvi…</td><td>&quot;2025-04-16 23:00:00&quot;</td><td>&quot;malsimo el geforce now de nvid…</td><td>&quot;malsimo el geforce de nvidia l…</td><td>0.0</td><td>2025-04-16 23:00:00</td><td>2025-04-16 23:00:00</td></tr><tr><td>&quot;Nike&quot;</td><td>&quot;Air Max&quot;</td><td>&quot;neutral&quot;</td><td>&quot;Vi muchas reseñas del Air Max …</td><td>&quot;2025-04-19 08:00:00&quot;</td><td>&quot;vi muchas reseas del air max d…</td><td>&quot;vi muchas reseas del air max d…</td><td>0.0</td><td>2025-04-19 08:00:00</td><td>2025-04-19 08:00:00</td></tr><tr><td>&quot;Apple&quot;</td><td>&quot;MacBook Air&quot;</td><td>&quot;neutral&quot;</td><td>&quot;No puedo creer lo bien que fun…</td><td>&quot;2025-04-16 17:00:00&quot;</td><td>&quot;no puedo creer lo bien que fun…</td><td>&quot;puedo creer lo bien que funcio…</td><td>0.0</td><td>2025-04-16 17:00:00</td><td>2025-04-16 17:00:00</td></tr></tbody></table></div>"
      ],
      "text/plain": [
       "shape: (5, 10)\n",
       "┌─────────┬────────────┬───────────┬───────────┬───┬───────────┬───────────┬───────────┬───────────┐\n",
       "│ empresa ┆ producto   ┆ sentimien ┆ comentari ┆ … ┆ texto_lim ┆ score_sen ┆ hora      ┆ hora_redo │\n",
       "│ ---     ┆ ---        ┆ to        ┆ o         ┆   ┆ pio       ┆ timiento  ┆ ---       ┆ ndeada    │\n",
       "│ str     ┆ str        ┆ ---       ┆ ---       ┆   ┆ ---       ┆ ---       ┆ datetime[ ┆ ---       │\n",
       "│         ┆            ┆ str       ┆ str       ┆   ┆ str       ┆ f64       ┆ μs]       ┆ datetime[ │\n",
       "│         ┆            ┆           ┆           ┆   ┆           ┆           ┆           ┆ μs]       │\n",
       "╞═════════╪════════════╪═══════════╪═══════════╪═══╪═══════════╪═══════════╪═══════════╪═══════════╡\n",
       "│ Apple   ┆ MacBook    ┆ neutral   ┆ MacBook   ┆ … ┆ macbook   ┆ 0.0       ┆ 2025-04-1 ┆ 2025-04-1 │\n",
       "│         ┆ Air        ┆           ┆ Air       ┆   ┆ air       ┆           ┆ 6         ┆ 6         │\n",
       "│         ┆            ┆           ┆ cumple    ┆   ┆ cumple    ┆           ┆ 13:00:00  ┆ 13:00:00  │\n",
       "│         ┆            ┆           ┆ con lo    ┆   ┆ con lo    ┆           ┆           ┆           │\n",
       "│         ┆            ┆           ┆ bási…     ┆   ┆ bsic…     ┆           ┆           ┆           │\n",
       "│ Apple   ┆ MacBook    ┆ neutral   ┆ He tenido ┆ … ┆ tenido ms ┆ 0.0       ┆ 2025-04-1 ┆ 2025-04-1 │\n",
       "│         ┆ Air        ┆           ┆ más       ┆   ┆ problemas ┆           ┆ 9         ┆ 9         │\n",
       "│         ┆            ┆           ┆ problemas ┆   ┆ que       ┆           ┆ 11:00:00  ┆ 11:00:00  │\n",
       "│         ┆            ┆           ┆ que be…   ┆   ┆ benefi…   ┆           ┆           ┆           │\n",
       "│ Nvidia  ┆ GeForce    ┆ neutral   ┆ Malísimo  ┆ … ┆ malsimo   ┆ 0.0       ┆ 2025-04-1 ┆ 2025-04-1 │\n",
       "│         ┆ NOW        ┆           ┆ el        ┆   ┆ el        ┆           ┆ 6         ┆ 6         │\n",
       "│         ┆            ┆           ┆ GeForce   ┆   ┆ geforce   ┆           ┆ 23:00:00  ┆ 23:00:00  │\n",
       "│         ┆            ┆           ┆ NOW de    ┆   ┆ de nvidia ┆           ┆           ┆           │\n",
       "│         ┆            ┆           ┆ Nvi…      ┆   ┆ l…        ┆           ┆           ┆           │\n",
       "│ Nike    ┆ Air Max    ┆ neutral   ┆ Vi muchas ┆ … ┆ vi muchas ┆ 0.0       ┆ 2025-04-1 ┆ 2025-04-1 │\n",
       "│         ┆            ┆           ┆ reseñas   ┆   ┆ reseas    ┆           ┆ 9         ┆ 9         │\n",
       "│         ┆            ┆           ┆ del Air   ┆   ┆ del air   ┆           ┆ 08:00:00  ┆ 08:00:00  │\n",
       "│         ┆            ┆           ┆ Max …     ┆   ┆ max d…    ┆           ┆           ┆           │\n",
       "│ Apple   ┆ MacBook    ┆ neutral   ┆ No puedo  ┆ … ┆ puedo     ┆ 0.0       ┆ 2025-04-1 ┆ 2025-04-1 │\n",
       "│         ┆ Air        ┆           ┆ creer lo  ┆   ┆ creer lo  ┆           ┆ 6         ┆ 6         │\n",
       "│         ┆            ┆           ┆ bien que  ┆   ┆ bien que  ┆           ┆ 17:00:00  ┆ 17:00:00  │\n",
       "│         ┆            ┆           ┆ fun…      ┆   ┆ funcio…   ┆           ┆           ┆           │\n",
       "└─────────┴────────────┴───────────┴───────────┴───┴───────────┴───────────┴───────────┴───────────┘"
      ]
     },
     "execution_count": 53,
     "metadata": {},
     "output_type": "execute_result"
    }
   ],
   "source": [
    "data.head()"
   ]
  },
  {
   "cell_type": "code",
   "execution_count": 56,
   "metadata": {},
   "outputs": [],
   "source": [
    "## Exportar base limpia\n",
    "ruta_exp = ruta_gen + \"data/data_comentarios_clean.csv\"\n",
    "data.write_csv(ruta_exp)"
   ]
  },
  {
   "cell_type": "markdown",
   "metadata": {},
   "source": [
    "## **Agregaciones clave que alimentarán los gráficos**"
   ]
  },
  {
   "cell_type": "code",
   "execution_count": 58,
   "metadata": {},
   "outputs": [
    {
     "name": "stderr",
     "output_type": "stream",
     "text": [
      "/var/folders/m0/lk0fh7d930q62bwb0vc7d45c0000gn/T/ipykernel_31477/3524701865.py:3: DeprecationWarning: `pl.count()` is deprecated. Please use `pl.len()` instead.\n",
      "  pl.count().alias(\"total_menciones\"),\n"
     ]
    },
    {
     "data": {
      "text/html": [
       "<div><style>\n",
       ".dataframe > thead > tr,\n",
       ".dataframe > tbody > tr {\n",
       "  text-align: right;\n",
       "  white-space: pre-wrap;\n",
       "}\n",
       "</style>\n",
       "<small>shape: (7, 3)</small><table border=\"1\" class=\"dataframe\"><thead><tr><th>empresa</th><th>total_menciones</th><th>sentimiento_promedio</th></tr><tr><td>str</td><td>u32</td><td>f64</td></tr></thead><tbody><tr><td>&quot;Nike&quot;</td><td>192</td><td>-0.006013</td></tr><tr><td>&quot;Binance&quot;</td><td>179</td><td>0.092068</td></tr><tr><td>&quot;Coinbase&quot;</td><td>178</td><td>-0.014808</td></tr><tr><td>&quot;Apple&quot;</td><td>174</td><td>-0.019975</td></tr><tr><td>&quot;Nvidia&quot;</td><td>173</td><td>-0.028218</td></tr><tr><td>&quot;Meta&quot;</td><td>166</td><td>-0.019355</td></tr><tr><td>&quot;Tesla&quot;</td><td>138</td><td>-0.011841</td></tr></tbody></table></div>"
      ],
      "text/plain": [
       "shape: (7, 3)\n",
       "┌──────────┬─────────────────┬──────────────────────┐\n",
       "│ empresa  ┆ total_menciones ┆ sentimiento_promedio │\n",
       "│ ---      ┆ ---             ┆ ---                  │\n",
       "│ str      ┆ u32             ┆ f64                  │\n",
       "╞══════════╪═════════════════╪══════════════════════╡\n",
       "│ Nike     ┆ 192             ┆ -0.006013            │\n",
       "│ Binance  ┆ 179             ┆ 0.092068             │\n",
       "│ Coinbase ┆ 178             ┆ -0.014808            │\n",
       "│ Apple    ┆ 174             ┆ -0.019975            │\n",
       "│ Nvidia   ┆ 173             ┆ -0.028218            │\n",
       "│ Meta     ┆ 166             ┆ -0.019355            │\n",
       "│ Tesla    ┆ 138             ┆ -0.011841            │\n",
       "└──────────┴─────────────────┴──────────────────────┘"
      ]
     },
     "execution_count": 58,
     "metadata": {},
     "output_type": "execute_result"
    }
   ],
   "source": [
    "# 1. Total de menciones por empresa\n",
    "menciones_empresa = data.group_by(\"empresa\").agg([\n",
    "    pl.count().alias(\"total_menciones\"),\n",
    "    pl.mean(\"score_sentimiento\").alias(\"sentimiento_promedio\")\n",
    "]).sort(\"total_menciones\", descending=True)\n",
    "\n",
    "\n",
    "menciones_empresa"
   ]
  },
  {
   "cell_type": "code",
   "execution_count": 59,
   "metadata": {},
   "outputs": [
    {
     "name": "stderr",
     "output_type": "stream",
     "text": [
      "/var/folders/m0/lk0fh7d930q62bwb0vc7d45c0000gn/T/ipykernel_31477/2364733085.py:3: DeprecationWarning: `pl.count()` is deprecated. Please use `pl.len()` instead.\n",
      "  pl.count().alias(\"total_menciones\"),\n"
     ]
    },
    {
     "data": {
      "text/html": [
       "<div><style>\n",
       ".dataframe > thead > tr,\n",
       ".dataframe > tbody > tr {\n",
       "  text-align: right;\n",
       "  white-space: pre-wrap;\n",
       "}\n",
       "</style>\n",
       "<small>shape: (121, 3)</small><table border=\"1\" class=\"dataframe\"><thead><tr><th>hora_redondeada</th><th>total_menciones</th><th>sentimiento_promedio</th></tr><tr><td>datetime[μs]</td><td>u32</td><td>f64</td></tr></thead><tbody><tr><td>2025-04-17 19:00:00</td><td>11</td><td>0.0</td></tr><tr><td>2025-04-19 19:00:00</td><td>12</td><td>-0.006433</td></tr><tr><td>2025-04-17 06:00:00</td><td>8</td><td>0.0</td></tr><tr><td>2025-04-15 10:00:00</td><td>20</td><td>-0.035105</td></tr><tr><td>2025-04-18 05:00:00</td><td>12</td><td>0.028333</td></tr><tr><td>&hellip;</td><td>&hellip;</td><td>&hellip;</td></tr><tr><td>2025-04-16 05:00:00</td><td>15</td><td>0.01752</td></tr><tr><td>2025-04-17 14:00:00</td><td>10</td><td>0.034</td></tr><tr><td>2025-04-20 07:00:00</td><td>7</td><td>0.0</td></tr><tr><td>2025-04-16 19:00:00</td><td>13</td><td>0.0</td></tr><tr><td>2025-04-17 10:00:00</td><td>8</td><td>0.0</td></tr></tbody></table></div>"
      ],
      "text/plain": [
       "shape: (121, 3)\n",
       "┌─────────────────────┬─────────────────┬──────────────────────┐\n",
       "│ hora_redondeada     ┆ total_menciones ┆ sentimiento_promedio │\n",
       "│ ---                 ┆ ---             ┆ ---                  │\n",
       "│ datetime[μs]        ┆ u32             ┆ f64                  │\n",
       "╞═════════════════════╪═════════════════╪══════════════════════╡\n",
       "│ 2025-04-17 19:00:00 ┆ 11              ┆ 0.0                  │\n",
       "│ 2025-04-19 19:00:00 ┆ 12              ┆ -0.006433            │\n",
       "│ 2025-04-17 06:00:00 ┆ 8               ┆ 0.0                  │\n",
       "│ 2025-04-15 10:00:00 ┆ 20              ┆ -0.035105            │\n",
       "│ 2025-04-18 05:00:00 ┆ 12              ┆ 0.028333             │\n",
       "│ …                   ┆ …               ┆ …                    │\n",
       "│ 2025-04-16 05:00:00 ┆ 15              ┆ 0.01752              │\n",
       "│ 2025-04-17 14:00:00 ┆ 10              ┆ 0.034                │\n",
       "│ 2025-04-20 07:00:00 ┆ 7               ┆ 0.0                  │\n",
       "│ 2025-04-16 19:00:00 ┆ 13              ┆ 0.0                  │\n",
       "│ 2025-04-17 10:00:00 ┆ 8               ┆ 0.0                  │\n",
       "└─────────────────────┴─────────────────┴──────────────────────┘"
      ]
     },
     "execution_count": 59,
     "metadata": {},
     "output_type": "execute_result"
    }
   ],
   "source": [
    "# 2. Menciones por hora\n",
    "menciones_hora = data.group_by(\"hora_redondeada\").agg([\n",
    "    pl.count().alias(\"total_menciones\"),\n",
    "    pl.mean(\"score_sentimiento\").alias(\"sentimiento_promedio\")\n",
    "])\n",
    "\n",
    "menciones_hora"
   ]
  },
  {
   "cell_type": "code",
   "execution_count": 60,
   "metadata": {},
   "outputs": [
    {
     "name": "stderr",
     "output_type": "stream",
     "text": [
      "/var/folders/m0/lk0fh7d930q62bwb0vc7d45c0000gn/T/ipykernel_31477/3749880430.py:3: DeprecationWarning: `pl.count()` is deprecated. Please use `pl.len()` instead.\n",
      "  pl.count().alias(\"total_menciones\"),\n"
     ]
    },
    {
     "data": {
      "text/html": [
       "<div><style>\n",
       ".dataframe > thead > tr,\n",
       ".dataframe > tbody > tr {\n",
       "  text-align: right;\n",
       "  white-space: pre-wrap;\n",
       "}\n",
       "</style>\n",
       "<small>shape: (28, 3)</small><table border=\"1\" class=\"dataframe\"><thead><tr><th>producto</th><th>total_menciones</th><th>sentimiento_promedio</th></tr><tr><td>str</td><td>u32</td><td>f64</td></tr></thead><tbody><tr><td>&quot;MacBook Air&quot;</td><td>39</td><td>0.008718</td></tr><tr><td>&quot;Autopilot&quot;</td><td>34</td><td>-0.022921</td></tr><tr><td>&quot;Powerwall&quot;</td><td>32</td><td>-0.017806</td></tr><tr><td>&quot;Model 3&quot;</td><td>41</td><td>0.008293</td></tr><tr><td>&quot;Facebook Ads&quot;</td><td>41</td><td>-0.056439</td></tr><tr><td>&hellip;</td><td>&hellip;</td><td>&hellip;</td></tr><tr><td>&quot;Nike Run Club&quot;</td><td>51</td><td>-0.016794</td></tr><tr><td>&quot;Earn&quot;</td><td>45</td><td>-0.022424</td></tr><tr><td>&quot;Apple Watch&quot;</td><td>48</td><td>-0.0466</td></tr><tr><td>&quot;Nike App&quot;</td><td>46</td><td>-0.004996</td></tr><tr><td>&quot;iPhone 15&quot;</td><td>41</td><td>-0.039315</td></tr></tbody></table></div>"
      ],
      "text/plain": [
       "shape: (28, 3)\n",
       "┌───────────────┬─────────────────┬──────────────────────┐\n",
       "│ producto      ┆ total_menciones ┆ sentimiento_promedio │\n",
       "│ ---           ┆ ---             ┆ ---                  │\n",
       "│ str           ┆ u32             ┆ f64                  │\n",
       "╞═══════════════╪═════════════════╪══════════════════════╡\n",
       "│ MacBook Air   ┆ 39              ┆ 0.008718             │\n",
       "│ Autopilot     ┆ 34              ┆ -0.022921            │\n",
       "│ Powerwall     ┆ 32              ┆ -0.017806            │\n",
       "│ Model 3       ┆ 41              ┆ 0.008293             │\n",
       "│ Facebook Ads  ┆ 41              ┆ -0.056439            │\n",
       "│ …             ┆ …               ┆ …                    │\n",
       "│ Nike Run Club ┆ 51              ┆ -0.016794            │\n",
       "│ Earn          ┆ 45              ┆ -0.022424            │\n",
       "│ Apple Watch   ┆ 48              ┆ -0.0466              │\n",
       "│ Nike App      ┆ 46              ┆ -0.004996            │\n",
       "│ iPhone 15     ┆ 41              ┆ -0.039315            │\n",
       "└───────────────┴─────────────────┴──────────────────────┘"
      ]
     },
     "execution_count": 60,
     "metadata": {},
     "output_type": "execute_result"
    }
   ],
   "source": [
    "# 3. Comparativo de productos\n",
    "comparativo_producto = data.group_by(\"producto\").agg([\n",
    "    pl.count().alias(\"total_menciones\"),\n",
    "    pl.mean(\"score_sentimiento\").alias(\"sentimiento_promedio\")\n",
    "])\n",
    "\n",
    "comparativo_producto"
   ]
  },
  {
   "cell_type": "code",
   "execution_count": 61,
   "metadata": {},
   "outputs": [
    {
     "name": "stderr",
     "output_type": "stream",
     "text": [
      "/var/folders/m0/lk0fh7d930q62bwb0vc7d45c0000gn/T/ipykernel_31477/2082405068.py:3: DeprecationWarning: `pl.count()` is deprecated. Please use `pl.len()` instead.\n",
      "  pl.count().alias(\"conteo\")\n"
     ]
    },
    {
     "data": {
      "text/html": [
       "<div><style>\n",
       ".dataframe > thead > tr,\n",
       ".dataframe > tbody > tr {\n",
       "  text-align: right;\n",
       "  white-space: pre-wrap;\n",
       "}\n",
       "</style>\n",
       "<small>shape: (21, 3)</small><table border=\"1\" class=\"dataframe\"><thead><tr><th>empresa</th><th>sentimiento</th><th>conteo</th></tr><tr><td>str</td><td>str</td><td>u32</td></tr></thead><tbody><tr><td>&quot;Nike&quot;</td><td>&quot;neutral&quot;</td><td>173</td></tr><tr><td>&quot;Nvidia&quot;</td><td>&quot;positivo&quot;</td><td>4</td></tr><tr><td>&quot;Nike&quot;</td><td>&quot;negativo&quot;</td><td>13</td></tr><tr><td>&quot;Nvidia&quot;</td><td>&quot;negativo&quot;</td><td>17</td></tr><tr><td>&quot;Tesla&quot;</td><td>&quot;neutral&quot;</td><td>129</td></tr><tr><td>&hellip;</td><td>&hellip;</td><td>&hellip;</td></tr><tr><td>&quot;Apple&quot;</td><td>&quot;neutral&quot;</td><td>155</td></tr><tr><td>&quot;Tesla&quot;</td><td>&quot;negativo&quot;</td><td>6</td></tr><tr><td>&quot;Tesla&quot;</td><td>&quot;positivo&quot;</td><td>3</td></tr><tr><td>&quot;Apple&quot;</td><td>&quot;negativo&quot;</td><td>12</td></tr><tr><td>&quot;Binance&quot;</td><td>&quot;positivo&quot;</td><td>51</td></tr></tbody></table></div>"
      ],
      "text/plain": [
       "shape: (21, 3)\n",
       "┌─────────┬─────────────┬────────┐\n",
       "│ empresa ┆ sentimiento ┆ conteo │\n",
       "│ ---     ┆ ---         ┆ ---    │\n",
       "│ str     ┆ str         ┆ u32    │\n",
       "╞═════════╪═════════════╪════════╡\n",
       "│ Nike    ┆ neutral     ┆ 173    │\n",
       "│ Nvidia  ┆ positivo    ┆ 4      │\n",
       "│ Nike    ┆ negativo    ┆ 13     │\n",
       "│ Nvidia  ┆ negativo    ┆ 17     │\n",
       "│ Tesla   ┆ neutral     ┆ 129    │\n",
       "│ …       ┆ …           ┆ …      │\n",
       "│ Apple   ┆ neutral     ┆ 155    │\n",
       "│ Tesla   ┆ negativo    ┆ 6      │\n",
       "│ Tesla   ┆ positivo    ┆ 3      │\n",
       "│ Apple   ┆ negativo    ┆ 12     │\n",
       "│ Binance ┆ positivo    ┆ 51     │\n",
       "└─────────┴─────────────┴────────┘"
      ]
     },
     "execution_count": 61,
     "metadata": {},
     "output_type": "execute_result"
    }
   ],
   "source": [
    "# 4. Sentimiento por empresa\n",
    "sentimiento_empresa = data.group_by([\"empresa\", \"sentimiento\"]).agg([\n",
    "    pl.count().alias(\"conteo\")\n",
    "])\n",
    "sentimiento_empresa"
   ]
  },
  {
   "cell_type": "code",
   "execution_count": 62,
   "metadata": {},
   "outputs": [],
   "source": [
    "# 5. Top comentarios positivos y negativos\n",
    "top_positivos = data.sort(\"score_sentimiento\", descending=True).select([\"empresa\", \"comentario\", \"score_sentimiento\"]).head(10)\n",
    "top_negativos = data.sort(\"score_sentimiento\").select([\"empresa\", \"comentario\", \"score_sentimiento\"]).head(10)"
   ]
  },
  {
   "cell_type": "code",
   "execution_count": 68,
   "metadata": {},
   "outputs": [],
   "source": [
    "## Rutas para exportar\n",
    "ruta_men_emp = ruta_gen + \"data/menciones_por_empresa.csv\"\n",
    "ruta_men_hor = ruta_gen + \"data/sentimiento_por_hora.csv\"\n",
    "ruta_con_prod = ruta_gen + \"data/conteo_sentimientos.csv\"\n",
    "ruta_sen_emp = ruta_gen + \"data/sentimiento_empresa.csv\"\n",
    "\n",
    "## Exportar archivos\n",
    "menciones_empresa.write_csv(ruta_men_emp) # 1\n",
    "menciones_hora.write_csv(ruta_men_hor) # 2\n",
    "comparativo_producto.write_csv(ruta_con_prod) # 3\n",
    "sentimiento_empresa.write_csv(ruta_sen_emp) # 4 "
   ]
  }
 ],
 "metadata": {
  "kernelspec": {
   "display_name": ".venv",
   "language": "python",
   "name": "python3"
  },
  "language_info": {
   "codemirror_mode": {
    "name": "ipython",
    "version": 3
   },
   "file_extension": ".py",
   "mimetype": "text/x-python",
   "name": "python",
   "nbconvert_exporter": "python",
   "pygments_lexer": "ipython3",
   "version": "3.9.6"
  }
 },
 "nbformat": 4,
 "nbformat_minor": 2
}
